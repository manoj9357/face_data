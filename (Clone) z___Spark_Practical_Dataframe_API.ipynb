{
 "cells": [
  {
   "cell_type": "markdown",
   "metadata": {
    "application/vnd.databricks.v1+cell": {
     "cellMetadata": {},
     "inputWidgets": {},
     "nuid": "8c556654-af3b-4a5d-8d43-7ec51c90d99c",
     "showTitle": false,
     "tableResultSettingsMap": {},
     "title": ""
    }
   },
   "source": [
    "# **3.Read Data in spark**"
   ]
  },
  {
   "cell_type": "markdown",
   "metadata": {
    "application/vnd.databricks.v1+cell": {
     "cellMetadata": {},
     "inputWidgets": {},
     "nuid": "a8f60944-da21-49fa-b9e5-f4c44d6968a7",
     "showTitle": false,
     "tableResultSettingsMap": {},
     "title": ""
    }
   },
   "source": [
    "## Data Frame reader API"
   ]
  },
  {
   "cell_type": "code",
   "execution_count": 0,
   "metadata": {
    "application/vnd.databricks.v1+cell": {
     "cellMetadata": {
      "byteLimit": 2048000,
      "rowLimit": 10000
     },
     "inputWidgets": {},
     "nuid": "39296b56-8c27-4aeb-b61d-258161472a39",
     "showTitle": false,
     "tableResultSettingsMap": {},
     "title": ""
    }
   },
   "outputs": [],
   "source": [
    "spark\n"
   ]
  },
  {
   "cell_type": "code",
   "execution_count": 0,
   "metadata": {
    "application/vnd.databricks.v1+cell": {
     "cellMetadata": {
      "byteLimit": 2048000,
      "rowLimit": 10000
     },
     "inputWidgets": {},
     "nuid": "396cc4fd-963c-4eb3-a37b-dbd5a712973b",
     "showTitle": false,
     "tableResultSettingsMap": {},
     "title": ""
    }
   },
   "outputs": [],
   "source": [
    "flight_df=spark.read.format(\"csv\")\\\n",
    "  .option(\"header\",\"false\")\\\n",
    "    .option(\"inferschema\",\"false\")\\\n",
    "      .option(\"mode\",\"FAILFAST\")\\\n",
    "        .load(\"/FileStore/tables/flight_data.csv\")\n",
    "\n",
    "flight_df.show(5)"
   ]
  },
  {
   "cell_type": "code",
   "execution_count": 0,
   "metadata": {
    "application/vnd.databricks.v1+cell": {
     "cellMetadata": {
      "byteLimit": 2048000,
      "rowLimit": 10000
     },
     "inputWidgets": {},
     "nuid": "5f19bd00-5cbf-408a-8d75-e6ba10690ef9",
     "showTitle": false,
     "tableResultSettingsMap": {},
     "title": ""
    }
   },
   "outputs": [],
   "source": [
    "flight_df_header=spark.read.format(\"csv\")\\\n",
    "  .option(\"header\",\"true\")\\\n",
    "    .option(\"inferschema\",\"false\")\\\n",
    "      .option(\"mode\",\"FAILFAST\")\\\n",
    "        .load(\"/FileStore/tables/flight_data.csv\")\n",
    "\n",
    "flight_df_header.show(5)"
   ]
  },
  {
   "cell_type": "code",
   "execution_count": 0,
   "metadata": {
    "application/vnd.databricks.v1+cell": {
     "cellMetadata": {
      "byteLimit": 2048000,
      "rowLimit": 10000
     },
     "inputWidgets": {},
     "nuid": "d404369c-77bb-43e0-84ea-c1f4474793a1",
     "showTitle": false,
     "tableResultSettingsMap": {},
     "title": ""
    }
   },
   "outputs": [],
   "source": [
    "flight_df_header.printSchema()"
   ]
  },
  {
   "cell_type": "code",
   "execution_count": 0,
   "metadata": {
    "application/vnd.databricks.v1+cell": {
     "cellMetadata": {
      "byteLimit": 2048000,
      "rowLimit": 10000
     },
     "inputWidgets": {},
     "nuid": "18d596fc-1967-4ea8-9ccc-bb865fd91db3",
     "showTitle": false,
     "tableResultSettingsMap": {},
     "title": ""
    }
   },
   "outputs": [],
   "source": [
    "flight_df_header_schemma=spark.read.format(\"csv\")\\\n",
    "  .option(\"header\",\"true\")\\\n",
    "    .option(\"inferschema\",\"true\")\\\n",
    "      .option(\"mode\",\"FAILFAST\")\\\n",
    "        .load(\"/FileStore/tables/flight_data.csv\")\n",
    "\n",
    "flight_df_header_schemma.show(5)"
   ]
  },
  {
   "cell_type": "code",
   "execution_count": 0,
   "metadata": {
    "application/vnd.databricks.v1+cell": {
     "cellMetadata": {
      "byteLimit": 2048000,
      "rowLimit": 10000
     },
     "inputWidgets": {},
     "nuid": "a55c78a8-62a8-43e8-bccd-8ba3f2c53a75",
     "showTitle": false,
     "tableResultSettingsMap": {},
     "title": ""
    }
   },
   "outputs": [],
   "source": [
    "flight_df_header_schemma.printSchema()"
   ]
  },
  {
   "cell_type": "markdown",
   "metadata": {
    "application/vnd.databricks.v1+cell": {
     "cellMetadata": {},
     "inputWidgets": {},
     "nuid": "63647359-5758-4c88-8350-e2c4045b92f9",
     "showTitle": false,
     "tableResultSettingsMap": {},
     "title": ""
    }
   },
   "source": [
    "# **4.Schema in Spark**"
   ]
  },
  {
   "cell_type": "code",
   "execution_count": 0,
   "metadata": {
    "application/vnd.databricks.v1+cell": {
     "cellMetadata": {
      "byteLimit": 2048000,
      "rowLimit": 10000
     },
     "inputWidgets": {},
     "nuid": "c4638ec4-2d14-428e-9c5a-557c6898f823",
     "showTitle": false,
     "tableResultSettingsMap": {},
     "title": ""
    }
   },
   "outputs": [],
   "source": [
    "flight_df=spark.read.format(\"csv\")\\\n",
    "  .option(\"header\",\"false\")\\\n",
    "    .option(\"inferschema\",\"false\")\\\n",
    "      .schema(my_schema)\\\n",
    "        .option(\"mode\",\"FAILFAST\")\\\n",
    "          .load(\"/FileStore/tables/flight_data.csv\")\n",
    "\n",
    "flight_df.show(5)"
   ]
  },
  {
   "cell_type": "code",
   "execution_count": 0,
   "metadata": {
    "application/vnd.databricks.v1+cell": {
     "cellMetadata": {
      "byteLimit": 2048000,
      "rowLimit": 10000
     },
     "inputWidgets": {},
     "nuid": "abcdca18-e66f-4cfa-8c68-0064a0a0069b",
     "showTitle": false,
     "tableResultSettingsMap": {},
     "title": ""
    }
   },
   "outputs": [],
   "source": [
    "from pyspark.sql.types import StructType,StructField,StringType,IntegerType\n",
    "my_schema=StructType(\n",
    "    [\n",
    "        StructField('DEST_COUNTRY_NAME',StringType(),True),\n",
    "        StructField('ORIGIN_COUNTRY_NAME',StringType(),True),\n",
    "        StructField('COUNT',IntegerType(),True)\n",
    "    ]\n",
    "    )"
   ]
  },
  {
   "cell_type": "code",
   "execution_count": 0,
   "metadata": {
    "application/vnd.databricks.v1+cell": {
     "cellMetadata": {
      "byteLimit": 2048000,
      "rowLimit": 10000
     },
     "inputWidgets": {},
     "nuid": "c81ef630-4e68-4245-9e55-f557b82bce72",
     "showTitle": false,
     "tableResultSettingsMap": {},
     "title": ""
    }
   },
   "outputs": [],
   "source": [
    "\n",
    "flight_df=spark.read.format(\"csv\")\\\n",
    "  .option(\"header\",\"false\")\\\n",
    "    .option(\"inferschema\",\"false\")\\\n",
    "      .schema(my_schema)\\\n",
    "        .option(\"mode\",\"FAILFAST\")\\ # failing due to FAILFAST MODE AS NULL IS COMING IN RECORD \n",
    "          .load(\"/FileStore/tables/flight_data.csv\")\n",
    "\n",
    "flight_df.show(5)"
   ]
  },
  {
   "cell_type": "code",
   "execution_count": 0,
   "metadata": {
    "application/vnd.databricks.v1+cell": {
     "cellMetadata": {
      "byteLimit": 2048000,
      "rowLimit": 10000
     },
     "inputWidgets": {},
     "nuid": "662819fc-bb82-44d3-bc7f-42ee1146112c",
     "showTitle": false,
     "tableResultSettingsMap": {},
     "title": ""
    }
   },
   "outputs": [],
   "source": [
    "%fs\n",
    "ls /FileStore/tables/"
   ]
  },
  {
   "cell_type": "code",
   "execution_count": 0,
   "metadata": {
    "application/vnd.databricks.v1+cell": {
     "cellMetadata": {
      "byteLimit": 2048000,
      "rowLimit": 10000
     },
     "inputWidgets": {},
     "nuid": "e164ac2c-96f6-4c61-8736-e2cb3634fefe",
     "showTitle": false,
     "tableResultSettingsMap": {},
     "title": ""
    }
   },
   "outputs": [],
   "source": [
    "\n",
    "flight_df=spark.read.format(\"csv\")\\\n",
    "                    .option(\"header\",\"true\")\\\n",
    "                    .option(\"skipRows\",1)\\\n",
    "                    .option(\"inferschema\",\"false\")\\\n",
    "                    .schema(my_schema)\\\n",
    "                    .option(\"mode\",\"PERMISSIVE\")\\\n",
    "                    .load(\"/FileStore/tables/flight_data.csv\")\n",
    "                    #As the csv file had the header included in it but we kept header as false so the first row had header columns as record, so we need to skip 1 row\n",
    "\n",
    "flight_df.show(5)"
   ]
  },
  {
   "cell_type": "markdown",
   "metadata": {
    "application/vnd.databricks.v1+cell": {
     "cellMetadata": {},
     "inputWidgets": {},
     "nuid": "1cea1db8-b82e-41fa-afeb-72f5b8a8596e",
     "showTitle": false,
     "tableResultSettingsMap": {},
     "title": ""
    }
   },
   "source": [
    "# **5.Handling Corrupted Records in spark**"
   ]
  },
  {
   "cell_type": "code",
   "execution_count": 0,
   "metadata": {
    "application/vnd.databricks.v1+cell": {
     "cellMetadata": {
      "byteLimit": 2048000,
      "rowLimit": 10000
     },
     "inputWidgets": {},
     "nuid": "90bdc17f-a17b-4bc1-b2f1-2090cc635ad7",
     "showTitle": false,
     "tableResultSettingsMap": {},
     "title": ""
    }
   },
   "outputs": [],
   "source": [
    "employee_df=spark.read.format(\"csv\")\\\n",
    "  .option(\"header\",\"true\")\\\n",
    "    .option(\"inferschema\",\"true\")\\\n",
    "      .option(\"mode\",\"PERMISSIVE\")\\\n",
    "        .load(\"/FileStore/tables/employee_file.csv\")\n",
    "\n",
    "# id,name,age,salary,address,nominee\n",
    "# 1,Manish,26,75000,bihar,nominee1\n",
    "# 2,Nikita,23,100000,uttarpradesh,nominee2\n",
    "# 3,Pritam,22,150000,Bangalore,India,#####nominee3\n",
    "# 4,Prantosh,17,200000,Kolkata,India,####nominee4\n",
    "# 5,Vikash,31,300000,,nominee5\n",
    "\n",
    "employee_df.show()"
   ]
  },
  {
   "cell_type": "code",
   "execution_count": 0,
   "metadata": {
    "application/vnd.databricks.v1+cell": {
     "cellMetadata": {
      "byteLimit": 2048000,
      "rowLimit": 10000
     },
     "inputWidgets": {},
     "nuid": "35011306-2832-4d4a-9dcc-1868e9941090",
     "showTitle": false,
     "tableResultSettingsMap": {},
     "title": ""
    }
   },
   "outputs": [],
   "source": [
    "employee_df=spark.read.format(\"csv\")\\\n",
    "  .option(\"header\",\"true\")\\\n",
    "    .option(\"inferschema\",\"true\")\\\n",
    "      .option(\"mode\",\"DROPMALFORMED\")\\\n",
    "        .load(\"/FileStore/tables/employee_file.csv\")\n",
    "\n",
    "# id,name,age,salary,address,nominee\n",
    "# 1,Manish,26,75000,bihar,nominee1\n",
    "# 2,Nikita,23,100000,uttarpradesh,nominee2\n",
    "# 3,Pritam,22,150000,Bangalore,India,#####nominee3\n",
    "# 4,Prantosh,17,200000,Kolkata,India,####nominee4\n",
    "# 5,Vikash,31,300000,,nominee5\n",
    "\n",
    "employee_df.show()"
   ]
  },
  {
   "cell_type": "code",
   "execution_count": 0,
   "metadata": {
    "application/vnd.databricks.v1+cell": {
     "cellMetadata": {
      "byteLimit": 2048000,
      "rowLimit": 10000
     },
     "inputWidgets": {},
     "nuid": "8924462e-19ee-40c2-a7b4-1ba997b0a01c",
     "showTitle": false,
     "tableResultSettingsMap": {},
     "title": ""
    }
   },
   "outputs": [],
   "source": [
    "employee_df=spark.read.format(\"csv\")\\\n",
    "  .option(\"header\",\"true\")\\\n",
    "    .option(\"inferschema\",\"true\")\\\n",
    "      .option(\"mode\",\"FAILFAST\")\\\n",
    "        .load(\"/FileStore/tables/employee_file.csv\")\n",
    "\n",
    "# id,name,age,salary,address,nominee\n",
    "# 1,Manish,26,75000,bihar,nominee1\n",
    "# 2,Nikita,23,100000,uttarpradesh,nominee2\n",
    "# 3,Pritam,22,150000,Bangalore,India,#####nominee3\n",
    "# 4,Prantosh,17,200000,Kolkata,India,####nominee4\n",
    "# 5,Vikash,31,300000,,nominee5\n",
    "\n",
    "employee_df.show()"
   ]
  },
  {
   "cell_type": "code",
   "execution_count": 0,
   "metadata": {
    "application/vnd.databricks.v1+cell": {
     "cellMetadata": {
      "byteLimit": 2048000,
      "rowLimit": 10000
     },
     "inputWidgets": {},
     "nuid": "8cd8c9ea-84f3-481f-8aa2-7c66dd51147a",
     "showTitle": false,
     "tableResultSettingsMap": {},
     "title": ""
    }
   },
   "outputs": [],
   "source": [
    "employee_df.printSchema()"
   ]
  },
  {
   "cell_type": "markdown",
   "metadata": {
    "application/vnd.databricks.v1+cell": {
     "cellMetadata": {},
     "inputWidgets": {},
     "nuid": "72eaa28f-d22d-4adc-b622-f34a3974cc4c",
     "showTitle": false,
     "tableResultSettingsMap": {},
     "title": ""
    }
   },
   "source": [
    "## Print Corrupted Records"
   ]
  },
  {
   "cell_type": "code",
   "execution_count": 0,
   "metadata": {
    "application/vnd.databricks.v1+cell": {
     "cellMetadata": {
      "byteLimit": 2048000,
      "rowLimit": 10000
     },
     "inputWidgets": {},
     "nuid": "5eafcf1d-7d87-4ae1-8991-8aac91cb0375",
     "showTitle": false,
     "tableResultSettingsMap": {},
     "title": ""
    }
   },
   "outputs": [],
   "source": [
    "# PRINT CORRUPTED RECORDS\n",
    "\n",
    "from pyspark.sql.types import StructField,StructType,StringType,IntegerType\n",
    "\n",
    "emp_schema=StructType(\n",
    "    [\n",
    "        StructField('id',IntegerType(),True),\n",
    "        StructField(\"name\",StringType(),True),\n",
    "        StructField(\"age\",IntegerType(),True),\n",
    "        StructField(\"salary\",IntegerType(),True),\n",
    "        StructField(\"address\",StringType(),True),\n",
    "        StructField(\"nominee\",StringType(),True),\n",
    "        StructField(\"_corrupt_record\",StringType(),True)\n",
    "    ]\n",
    ")\n"
   ]
  },
  {
   "cell_type": "code",
   "execution_count": 0,
   "metadata": {
    "application/vnd.databricks.v1+cell": {
     "cellMetadata": {
      "byteLimit": 2048000,
      "rowLimit": 10000
     },
     "inputWidgets": {},
     "nuid": "93ea0e64-c079-4bd1-81ce-34b4b966b4c3",
     "showTitle": false,
     "tableResultSettingsMap": {},
     "title": ""
    }
   },
   "outputs": [],
   "source": [
    "# PRINT CORRUPTED RECORDS\n",
    "employee_df=spark.read.format(\"csv\")\\\n",
    "  .option(\"header\",\"true\")\\\n",
    "    .option(\"inferschema\",\"true\")\\\n",
    "      .option(\"mode\",\"Permissive\")\\\n",
    "        .schema(emp_schema)\\\n",
    "        .load(\"/FileStore/tables/employee_file.csv\")\n",
    "\n",
    "# id,name,age,salary,address,nominee\n",
    "# 1,Manish,26,75000,bihar,nominee1\n",
    "# 2,Nikita,23,100000,uttarpradesh,nominee2\n",
    "# 3,Pritam,22,150000,Bangalore,India,#####nominee3\n",
    "# 4,Prantosh,17,200000,Kolkata,India,####nominee4\n",
    "# 5,Vikash,31,300000,,nominee5\n",
    "\n",
    "employee_df.show(truncate=False)"
   ]
  },
  {
   "cell_type": "markdown",
   "metadata": {
    "application/vnd.databricks.v1+cell": {
     "cellMetadata": {},
     "inputWidgets": {},
     "nuid": "14146a4b-c8d2-48f2-af68-650b9842cad1",
     "showTitle": false,
     "tableResultSettingsMap": {},
     "title": ""
    }
   },
   "source": [
    "## Storing Bad Records"
   ]
  },
  {
   "cell_type": "code",
   "execution_count": 0,
   "metadata": {
    "application/vnd.databricks.v1+cell": {
     "cellMetadata": {
      "byteLimit": 2048000,
      "rowLimit": 10000
     },
     "inputWidgets": {},
     "nuid": "4654f80a-9665-4ee1-a2be-b74024f7f012",
     "showTitle": false,
     "tableResultSettingsMap": {},
     "title": ""
    }
   },
   "outputs": [],
   "source": [
    "employee_df=spark.read.format(\"csv\")\\\n",
    "  .option(\"header\",\"true\")\\\n",
    "    .option(\"inferschema\",\"true\")\\\n",
    "      .schema(emp_schema)\\\n",
    "        .option(\"badRecordsPath\",\"/FileStore/tables/bad_records\")\\\n",
    "        .load(\"/FileStore/tables/employee_file.csv\")\n",
    "employee_df.show(truncate=False)      "
   ]
  },
  {
   "cell_type": "code",
   "execution_count": 0,
   "metadata": {
    "application/vnd.databricks.v1+cell": {
     "cellMetadata": {
      "byteLimit": 2048000,
      "rowLimit": 10000
     },
     "inputWidgets": {},
     "nuid": "47515428-330a-425e-8fa4-8eca17b236dd",
     "showTitle": false,
     "tableResultSettingsMap": {},
     "title": ""
    }
   },
   "outputs": [],
   "source": [
    "%fs\n",
    "ls /FileStore/tables/bad_records/20250119T134229/bad_records/"
   ]
  },
  {
   "cell_type": "code",
   "execution_count": 0,
   "metadata": {
    "application/vnd.databricks.v1+cell": {
     "cellMetadata": {
      "byteLimit": 2048000,
      "rowLimit": 10000
     },
     "inputWidgets": {},
     "nuid": "6075a320-3897-492b-aeb2-9f52206954cf",
     "showTitle": false,
     "tableResultSettingsMap": {},
     "title": ""
    }
   },
   "outputs": [],
   "source": [
    "bad_data_df=spark.read.format(\"json\")\\\n",
    "    .load(\"/FileStore/tables/bad_records/20250119T134229/bad_records/\")\n",
    "bad_data_df.show(truncate=False)       "
   ]
  },
  {
   "cell_type": "markdown",
   "metadata": {
    "application/vnd.databricks.v1+cell": {
     "cellMetadata": {},
     "inputWidgets": {},
     "nuid": "45508678-3d9c-492e-b4fc-fa7fcc0f22e9",
     "showTitle": false,
     "tableResultSettingsMap": {},
     "title": ""
    }
   },
   "source": [
    "# **6.How to read json files in pyspark**"
   ]
  },
  {
   "cell_type": "markdown",
   "metadata": {
    "application/vnd.databricks.v1+cell": {
     "cellMetadata": {},
     "inputWidgets": {},
     "nuid": "c154e286-1d3c-4fd3-8398-374568988d3b",
     "showTitle": false,
     "tableResultSettingsMap": {},
     "title": ""
    }
   },
   "source": [
    "- File uploaded to /FileStore/tables/multiline_incorrect.json\n",
    "- File uploaded to /FileStore/tables/multiline_correct.json\n",
    "- File uploaded to /FileStore/tables/line_delimited_json_extrafield.json\n",
    "- File uploaded to /FileStore/tables/corrupted_json.json\n",
    "- File uploaded to /FileStore/tables/line_delimited_json.json"
   ]
  },
  {
   "cell_type": "code",
   "execution_count": 0,
   "metadata": {
    "application/vnd.databricks.v1+cell": {
     "cellMetadata": {
      "byteLimit": 2048000,
      "rowLimit": 10000
     },
     "inputWidgets": {},
     "nuid": "2c8bacd9-54ea-45b6-8594-f4bd6573de06",
     "showTitle": false,
     "tableResultSettingsMap": {},
     "title": ""
    }
   },
   "outputs": [],
   "source": [
    "spark.read.format(\"json\")\\\n",
    "  .option(\"inferschema\",\"true\")\\\n",
    "    .option(\"mode\",\"PERMISSIVE\")\\\n",
    "      .load(\"/FileStore/tables/line_delimited_json.json\").show()"
   ]
  },
  {
   "cell_type": "code",
   "execution_count": 0,
   "metadata": {
    "application/vnd.databricks.v1+cell": {
     "cellMetadata": {
      "byteLimit": 2048000,
      "rowLimit": 10000
     },
     "inputWidgets": {},
     "nuid": "5b8a6332-45f7-4421-bfea-adda9b0128cd",
     "showTitle": false,
     "tableResultSettingsMap": {},
     "title": ""
    }
   },
   "outputs": [],
   "source": [
    "spark.read.format(\"json\")\\\n",
    "    .option(\"inferschema\",\"true\")\\\n",
    "        .option(\"mode\",\"PERMISSIVE\")\\\n",
    "            .load(\"dbfs:/FileStore/tables/line_delimited_json_extrafield.json\").show()\n",
    "\n",
    "# {\"name\":\"Manish\",\"age\":20,\"salary\":20000},\n",
    "# {\"name\":\"Nikita\",\"age\":25,\"salary\":21000},\n",
    "# {\"name\":\"Pritam\",\"age\":16,\"salary\":22000},\n",
    "# {\"name\":\"Prantosh\",\"age\":35,\"salary\":25000},\n",
    "# {\"name\":\"Vikash\",\"age\":67,\"salary\":40000,\"gender\":\"M\"}    \n",
    "# gender column with only 1 actual value and other are nulls\n",
    "#        "
   ]
  },
  {
   "cell_type": "code",
   "execution_count": 0,
   "metadata": {
    "application/vnd.databricks.v1+cell": {
     "cellMetadata": {},
     "inputWidgets": {},
     "nuid": "b14dc312-3d91-42a4-8f07-110a9439ca5e",
     "showTitle": false,
     "tableResultSettingsMap": {},
     "title": ""
    }
   },
   "outputs": [],
   "source": [
    "# line delimited(single line---for each record of table all Key(column):Value(data) pairs in 1 line) json works faster than multiline json(each resords having multiple KV pairs in separate lines)...\n",
    "\n",
    "#single line--- {\"name\":\"Manish\",\"age\":20,\"salary\":20000}\n",
    "# multiline---{\n",
    "#   \"name\": \"Manish\",\n",
    "#   \"age\": 20,\n",
    "#   \"salary\": 20000\n",
    "# }"
   ]
  },
  {
   "cell_type": "code",
   "execution_count": 0,
   "metadata": {
    "application/vnd.databricks.v1+cell": {
     "cellMetadata": {
      "byteLimit": 2048000,
      "rowLimit": 10000
     },
     "inputWidgets": {},
     "nuid": "f7f4e64c-347d-4316-9ce5-2d5ea904e3ff",
     "showTitle": false,
     "tableResultSettingsMap": {},
     "title": ""
    }
   },
   "outputs": [],
   "source": [
    "spark.read.format(\"json\")\\\n",
    "    .option(\"inferschema\",\"true\")\\\n",
    "        .option(\"multiline\",\"true\")\\\n",
    "          .option(\"mode\",\"PERMISSIVE\")\\\n",
    "            .load(\"/FileStore/tables/multiline_correct.json\").show()\n",
    "\n",
    "            # multiline correct is List of Dictionaries\n",
    "# [\n",
    "# {\n",
    "#   \"name\": \"Manish\",\n",
    "#   \"age\": 20,\n",
    "#   \"salary\": 20000\n",
    "# },\n",
    "# {\n",
    "#   \"name\": \"Nikita\",\n",
    "#   \"age\": 25,\n",
    "#   \"salary\": 21000\n",
    "# }\n",
    "# ]            "
   ]
  },
  {
   "cell_type": "code",
   "execution_count": 0,
   "metadata": {
    "application/vnd.databricks.v1+cell": {
     "cellMetadata": {
      "byteLimit": 2048000,
      "rowLimit": 10000
     },
     "inputWidgets": {},
     "nuid": "bd4abc86-5c1d-4863-8545-bbc84fd4f77b",
     "showTitle": false,
     "tableResultSettingsMap": {},
     "title": ""
    }
   },
   "outputs": [],
   "source": [
    "spark.read.format(\"json\")\\\n",
    "    .option(\"inferschema\",\"true\")\\\n",
    "        .option(\"multiline\",\"true\")\\\n",
    "          .option(\"mode\",\"PERMISSIVE\")\\\n",
    "            .load(\"/FileStore/tables/multiline_incorrect.json\").show()\n",
    "\n",
    "            # multiline_incorrect is json without a list of dictionaries so only 1 record was parsed\n",
    "\n",
    "# {\n",
    "#   \"name\": \"Manish\",\n",
    "#   \"age\": 20,\n",
    "#   \"salary\": 20000\n",
    "# },\n",
    "# {\n",
    "#   \"name\": \"Nikita\",\n",
    "#   \"age\": 25,\n",
    "#   \"salary\": 21000\n",
    "# }            "
   ]
  },
  {
   "cell_type": "code",
   "execution_count": 0,
   "metadata": {
    "application/vnd.databricks.v1+cell": {
     "cellMetadata": {
      "byteLimit": 2048000,
      "rowLimit": 10000
     },
     "inputWidgets": {},
     "nuid": "11dac92c-5ea6-486b-bb49-ed75d61441a8",
     "showTitle": false,
     "tableResultSettingsMap": {},
     "title": ""
    }
   },
   "outputs": [],
   "source": [
    "spark.read.format(\"json\")\\\n",
    "    .option(\"inferschema\",\"true\")\\\n",
    "          .option(\"mode\",\"PERMISSIVE\")\\\n",
    "            .load(\"/FileStore/tables/corrupted_json.json\").show(truncate=False)\n",
    "\n",
    "# {\"name\":\"Prantosh\",\"age\":35,\"salary\":25000},\n",
    "# {\"name\":\"Vikash\",\"age\":67,\"salary\":40000        curly bracket missing   "
   ]
  },
  {
   "cell_type": "markdown",
   "metadata": {
    "application/vnd.databricks.v1+cell": {
     "cellMetadata": {},
     "inputWidgets": {},
     "nuid": "c774a807-f4fa-4cfb-9e90-e77af8876dce",
     "showTitle": false,
     "tableResultSettingsMap": {},
     "title": ""
    }
   },
   "source": [
    "# **7.What is Apache Parquet file**"
   ]
  },
  {
   "cell_type": "code",
   "execution_count": 0,
   "metadata": {
    "application/vnd.databricks.v1+cell": {
     "cellMetadata": {
      "byteLimit": 2048000,
      "rowLimit": 10000
     },
     "inputWidgets": {},
     "nuid": "a4b76bf6-ac29-4ea9-aa76-ac2b1f73bb3c",
     "showTitle": false,
     "tableResultSettingsMap": {},
     "title": ""
    }
   },
   "outputs": [],
   "source": [
    "#  Spark API format file path\n",
    "#  dbfs:/FileStore/tables/part_r_00000_1a9822ba_b8fb_4d8e_844a_ea30d0801b9e_gz.parquet\n",
    "#  ==/FileStore/tables/part_r_00000_1a9822ba_b8fb_4d8e_844a_ea30d0801b9e_gz.parquet"
   ]
  },
  {
   "cell_type": "code",
   "execution_count": 0,
   "metadata": {
    "application/vnd.databricks.v1+cell": {
     "cellMetadata": {
      "byteLimit": 2048000,
      "rowLimit": 10000
     },
     "inputWidgets": {},
     "nuid": "870f4dde-deb3-4286-9aa3-0c6495ef6e31",
     "showTitle": false,
     "tableResultSettingsMap": {},
     "title": ""
    }
   },
   "outputs": [],
   "source": [
    "#reading a parquet file by loading directly\n",
    "spark.read.parquet(\"/FileStore/tables/part_r_00000_1a9822ba_b8fb_4d8e_844a_ea30d0801b9e_gz.parquet\").show()\n",
    "#no need of other options for reading parquet file as the the metadata of parquet file is so enriched that there no requirement at all.\n",
    "#parquet format is structured file format Binary file format(not human readable) and columnar-hybrid(mix of column and rows) based file format\n",
    "\n",
    "#Hybrid-if 100M records are there then it the data is arranged such that for evry 1lakh records the data will stored  column wise which is called a row group and then a break and then again from 100001 to 200000 record will be arranged in columnar format"
   ]
  },
  {
   "cell_type": "markdown",
   "metadata": {
    "application/vnd.databricks.v1+cell": {
     "cellMetadata": {},
     "inputWidgets": {},
     "nuid": "1b995636-8c2f-4b06-bee8-f18d3bb422ec",
     "showTitle": false,
     "tableResultSettingsMap": {},
     "title": ""
    }
   },
   "source": [
    "encoding:RUN LENGTH ENCODING(RLE) 01233313\n",
    "\n",
    "encoding:BIT PACKED 0,1,2,(3,3),1,3---requires 2 bytes instead of 8 bytes\n",
    "\n",
    "Predicate Pushdown- discards rowgroups where data is not in between min and max values\n",
    "\n",
    "Projection Pruning-searching only columns that are required\n"
   ]
  },
  {
   "cell_type": "markdown",
   "metadata": {
    "application/vnd.databricks.v1+cell": {
     "cellMetadata": {},
     "inputWidgets": {},
     "nuid": "9f3f654c-9285-4505-b5de-96f3cc41874a",
     "showTitle": false,
     "tableResultSettingsMap": {},
     "title": ""
    }
   },
   "source": [
    "# **8.How to write Dataframe to disk in spark**"
   ]
  },
  {
   "cell_type": "code",
   "execution_count": 0,
   "metadata": {
    "application/vnd.databricks.v1+cell": {
     "cellMetadata": {
      "byteLimit": 2048000,
      "rowLimit": 10000
     },
     "inputWidgets": {},
     "nuid": "67e6b90f-b48c-40b2-9cdd-dc7b16f94198",
     "showTitle": false,
     "tableResultSettingsMap": {},
     "title": ""
    }
   },
   "outputs": [],
   "source": [
    "df_emp=spark.read.format(\"csv\")\\\n",
    "  .option(\"header\",\"true\")\\\n",
    "    .option(\"inferschema\",\"true\")\\\n",
    "      .option(\"mode\",\"PERMISSIVE\")\\\n",
    "        .load(\"/FileStore/tables/employee.csv\")\n",
    "df_emp.show()        \n"
   ]
  },
  {
   "cell_type": "code",
   "execution_count": 0,
   "metadata": {
    "application/vnd.databricks.v1+cell": {
     "cellMetadata": {
      "byteLimit": 2048000,
      "rowLimit": 10000
     },
     "inputWidgets": {},
     "nuid": "2667075c-05a8-4483-be56-532a45b8579c",
     "showTitle": false,
     "tableResultSettingsMap": {},
     "title": ""
    }
   },
   "outputs": [],
   "source": [
    "df_emp.write.format(\"csv\")\\\n",
    "        .option(\"header\",\"true\")\\\n",
    "        .mode(\"overwrite\")\\\n",
    "        .option(\"path\",\"/FileStore/tables/csv_write\")\\\n",
    "        .save()\n",
    "#.option(\"mode\",\"overwrite\") is used for reading purposes for writing use .mode(\"overwrite\")"
   ]
  },
  {
   "cell_type": "code",
   "execution_count": 0,
   "metadata": {
    "application/vnd.databricks.v1+cell": {
     "cellMetadata": {
      "byteLimit": 2048000,
      "rowLimit": 10000
     },
     "inputWidgets": {},
     "nuid": "d686ef4c-b3c9-42ae-9ab8-c9ac9fc35e9b",
     "showTitle": false,
     "tableResultSettingsMap": {},
     "title": ""
    }
   },
   "outputs": [],
   "source": [
    "display(dbutils.fs.ls(\"/FileStore/tables/csv_write\"))"
   ]
  },
  {
   "cell_type": "code",
   "execution_count": 0,
   "metadata": {
    "application/vnd.databricks.v1+cell": {
     "cellMetadata": {
      "byteLimit": 2048000,
      "rowLimit": 10000
     },
     "inputWidgets": {},
     "nuid": "daf41909-c689-49b1-b721-90f211499d18",
     "showTitle": false,
     "tableResultSettingsMap": {},
     "title": ""
    }
   },
   "outputs": [],
   "source": [
    "df_emp.repartition(3).write.format(\"csv\")\\\n",
    "        .option(\"header\",\"true\")\\\n",
    "        .mode(\"overwrite\")\\\n",
    "        .option(\"path\",\"/FileStore/tables/csv_write_1\")\\\n",
    "        .save()\n",
    "# 1 file divided into 3 files"
   ]
  },
  {
   "cell_type": "code",
   "execution_count": 0,
   "metadata": {
    "application/vnd.databricks.v1+cell": {
     "cellMetadata": {
      "byteLimit": 2048000,
      "rowLimit": 10000
     },
     "inputWidgets": {},
     "nuid": "562f1751-962c-433e-9725-2c995fbe886f",
     "showTitle": false,
     "tableResultSettingsMap": {},
     "title": ""
    }
   },
   "outputs": [],
   "source": [
    "display(dbutils.fs.ls(\"/FileStore/tables/csv_write_1\"))"
   ]
  },
  {
   "cell_type": "code",
   "execution_count": 0,
   "metadata": {
    "application/vnd.databricks.v1+cell": {
     "cellMetadata": {
      "byteLimit": 2048000,
      "rowLimit": 10000
     },
     "inputWidgets": {},
     "nuid": "13e4131e-7173-4798-9287-999a6d569712",
     "showTitle": false,
     "tableResultSettingsMap": {},
     "title": ""
    }
   },
   "outputs": [],
   "source": [
    "spark.read.csv(\"/FileStore/tables/csv_write_1/part-00001-tid-7427873579321568306-a3be03bf-d631-4f08-97d1-22818a52d2e8-176512-1-c000.csv\").show()"
   ]
  },
  {
   "cell_type": "markdown",
   "metadata": {
    "application/vnd.databricks.v1+cell": {
     "cellMetadata": {},
     "inputWidgets": {},
     "nuid": "446e75d0-90bd-4589-b02c-8c3de4c08524",
     "showTitle": false,
     "tableResultSettingsMap": {},
     "title": ""
    }
   },
   "source": [
    "# **Partitioning and Bucketing**"
   ]
  },
  {
   "cell_type": "code",
   "execution_count": 0,
   "metadata": {
    "application/vnd.databricks.v1+cell": {
     "cellMetadata": {
      "byteLimit": 2048000,
      "rowLimit": 10000
     },
     "inputWidgets": {},
     "nuid": "b182d008-28be-45d5-aac8-6e508c2ee77d",
     "showTitle": false,
     "tableResultSettingsMap": {},
     "title": ""
    }
   },
   "outputs": [],
   "source": [
    "df_emp.show()"
   ]
  },
  {
   "cell_type": "code",
   "execution_count": 0,
   "metadata": {
    "application/vnd.databricks.v1+cell": {
     "cellMetadata": {
      "byteLimit": 2048000,
      "rowLimit": 10000
     },
     "inputWidgets": {},
     "nuid": "f1634f52-85ab-4c74-8a2a-c85d9c28e7a7",
     "showTitle": false,
     "tableResultSettingsMap": {},
     "title": ""
    }
   },
   "outputs": [],
   "source": [
    "df_emp.write.format(\"csv\")\\\n",
    "  .option(\"header\",\"true\")\\\n",
    "    .mode(\"overwrite\")\\\n",
    "      .option(\"path\",\"/FileStore/tables/partition_by_address/\")\\\n",
    "        .partitionBy(\"address\")\\\n",
    "          .save()\n",
    "\n"
   ]
  },
  {
   "cell_type": "code",
   "execution_count": 0,
   "metadata": {
    "application/vnd.databricks.v1+cell": {
     "cellMetadata": {
      "byteLimit": 2048000,
      "rowLimit": 10000
     },
     "inputWidgets": {},
     "nuid": "e2d88b4e-d730-4cb1-9bf7-d5c18cdd18df",
     "showTitle": false,
     "tableResultSettingsMap": {},
     "title": ""
    }
   },
   "outputs": [],
   "source": [
    "dbutils.fs.ls(\"/FileStore/tables/partition_by_address\") # 4 partitions created basesd on country address"
   ]
  },
  {
   "cell_type": "code",
   "execution_count": 0,
   "metadata": {
    "application/vnd.databricks.v1+cell": {
     "cellMetadata": {
      "byteLimit": 2048000,
      "rowLimit": 10000
     },
     "inputWidgets": {},
     "nuid": "64d92acd-4d20-4832-a38b-4f5ed240fb91",
     "showTitle": false,
     "tableResultSettingsMap": {},
     "title": ""
    }
   },
   "outputs": [],
   "source": [
    "df_emp.write.format(\"csv\")\\\n",
    "  .option(\"header\",\"true\")\\\n",
    "    .mode(\"overwrite\")\\\n",
    "      .option(\"path\",\"/FileStore/tables/partition_by_id/\")\\\n",
    "        .partitionBy(\"id\")\\\n",
    "          .save()\n"
   ]
  },
  {
   "cell_type": "code",
   "execution_count": 0,
   "metadata": {
    "application/vnd.databricks.v1+cell": {
     "cellMetadata": {
      "byteLimit": 2048000,
      "rowLimit": 10000
     },
     "inputWidgets": {},
     "nuid": "8c40dee6-15bc-48f4-affa-2400a793c408",
     "showTitle": false,
     "tableResultSettingsMap": {},
     "title": ""
    }
   },
   "outputs": [],
   "source": [
    "dbutils.fs.ls(\"/FileStore/tables/partition_by_id\") # optimized partitioning failed as the column on which we partitioned the data doesn't has cardinality(evenly distributed big group of data for each key in the field id unlike address)\n",
    "#eg set_id={1,2,3,...,15}-->cardinality 15 _____>bucketBy preferred\n",
    "#eg set_address={INDIA,JAPAN,USA,RUSSIA}--->CARDINALITY 4 ----partitionBy preferred"
   ]
  },
  {
   "cell_type": "code",
   "execution_count": 0,
   "metadata": {
    "application/vnd.databricks.v1+cell": {
     "cellMetadata": {
      "byteLimit": 2048000,
      "rowLimit": 10000
     },
     "inputWidgets": {},
     "nuid": "6bfbd5bd-fea2-446c-9c59-9eae2d08c1ab",
     "showTitle": false,
     "tableResultSettingsMap": {},
     "title": ""
    }
   },
   "outputs": [],
   "source": [
    "#If we want data to be partioned by male and female data in a country then we can partition by address then gender\n",
    "\n",
    "df_emp.write.format(\"csv\")\\\n",
    "    .option(\"header\",\"true\")\\\n",
    "        .mode(\"overwrite\")\\\n",
    "            .option(\"path\",\"/FileStore/tables/partition_by_address_gender\")\\\n",
    "                .partitionBy(\"address\",\"gender\")\\\n",
    "                    .save()"
   ]
  },
  {
   "cell_type": "code",
   "execution_count": 0,
   "metadata": {
    "application/vnd.databricks.v1+cell": {
     "cellMetadata": {
      "byteLimit": 2048000,
      "rowLimit": 10000
     },
     "inputWidgets": {},
     "nuid": "838d4755-06cc-42e5-97c5-2d9883fbf522",
     "showTitle": false,
     "tableResultSettingsMap": {},
     "title": ""
    }
   },
   "outputs": [],
   "source": [
    "dbutils.fs.ls(\"/FileStore/tables/partition_by_address_gender/address=INDIA/\")"
   ]
  },
  {
   "cell_type": "code",
   "execution_count": 0,
   "metadata": {
    "application/vnd.databricks.v1+cell": {
     "cellMetadata": {
      "byteLimit": 2048000,
      "rowLimit": 10000
     },
     "inputWidgets": {},
     "nuid": "379d4e56-6208-49ea-b5fc-995e04714c57",
     "showTitle": false,
     "tableResultSettingsMap": {},
     "title": ""
    }
   },
   "outputs": [],
   "source": [
    "dbutils.fs.ls(\"/FileStore/tables/partition_by_address_gender/address=INDIA//gender=f/\")"
   ]
  },
  {
   "cell_type": "code",
   "execution_count": 0,
   "metadata": {
    "application/vnd.databricks.v1+cell": {
     "cellMetadata": {
      "byteLimit": 2048000,
      "rowLimit": 10000
     },
     "inputWidgets": {},
     "nuid": "cdbe4a19-a6f5-4d02-a8ef-615aa56458e8",
     "showTitle": false,
     "tableResultSettingsMap": {},
     "title": ""
    }
   },
   "outputs": [],
   "source": [
    "df_emp.write.format(\"csv\")\\\n",
    "    .option(\"header\",\"true\")\\\n",
    "        .mode(\"overwrite\")\\\n",
    "            .option(\"path\",\"/FileStore/tables/bucket_by_id/\")\\ #shdjdj\n",
    "                .bucketBy(3,'id')\\\n",
    "                    .saveAsTable(\"bucket_by_id_table\")\n",
    "#need to to do saveAsTable for bucketBy        "
   ]
  },
  {
   "cell_type": "code",
   "execution_count": 0,
   "metadata": {
    "application/vnd.databricks.v1+cell": {
     "cellMetadata": {
      "byteLimit": 2048000,
      "rowLimit": 10000
     },
     "inputWidgets": {},
     "nuid": "a0e6a0ad-8d5e-45f2-959b-4003710d4978",
     "showTitle": false,
     "tableResultSettingsMap": {},
     "title": ""
    }
   },
   "outputs": [],
   "source": [
    "dbutils.fs.ls(\"/FileStore/tables/bucket_by_id/\")"
   ]
  },
  {
   "cell_type": "markdown",
   "metadata": {
    "application/vnd.databricks.v1+cell": {
     "cellMetadata": {},
     "inputWidgets": {},
     "nuid": "da8ff2db-88b0-4662-9ed1-6af8370535dc",
     "showTitle": false,
     "tableResultSettingsMap": {},
     "title": ""
    }
   },
   "source": [
    "# **10.How to create data frame in spark**"
   ]
  },
  {
   "cell_type": "code",
   "execution_count": 0,
   "metadata": {
    "application/vnd.databricks.v1+cell": {
     "cellMetadata": {
      "byteLimit": 2048000,
      "rowLimit": 10000
     },
     "inputWidgets": {},
     "nuid": "add96ef1-b610-4319-a9a2-cc0618704197",
     "showTitle": false,
     "tableResultSettingsMap": {},
     "title": ""
    }
   },
   "outputs": [],
   "source": [
    " data=[('name'      ,   'varchar'),    \n",
    " ('continent' ,   'varchar'),    \n",
    " ('area'      ,   'int'    ),    \n",
    " ('population',   'int'    ),    \n",
    " ('gdp'       ,   'bigint' )  ]"
   ]
  },
  {
   "cell_type": "code",
   "execution_count": 0,
   "metadata": {
    "application/vnd.databricks.v1+cell": {
     "cellMetadata": {
      "byteLimit": 2048000,
      "rowLimit": 10000
     },
     "inputWidgets": {},
     "nuid": "76d14df6-ac76-4581-8e59-f6f22451ca35",
     "showTitle": false,
     "tableResultSettingsMap": {},
     "title": ""
    }
   },
   "outputs": [],
   "source": [
    "my_schema=['column','datatype']"
   ]
  },
  {
   "cell_type": "code",
   "execution_count": 0,
   "metadata": {
    "application/vnd.databricks.v1+cell": {
     "cellMetadata": {
      "byteLimit": 2048000,
      "rowLimit": 10000
     },
     "inputWidgets": {},
     "nuid": "bab7526b-16a3-4eff-8763-86ffc6c88b2a",
     "showTitle": false,
     "tableResultSettingsMap": {},
     "title": ""
    }
   },
   "outputs": [],
   "source": [
    "spark"
   ]
  },
  {
   "cell_type": "code",
   "execution_count": 0,
   "metadata": {
    "application/vnd.databricks.v1+cell": {
     "cellMetadata": {
      "byteLimit": 2048000,
      "rowLimit": 10000
     },
     "inputWidgets": {},
     "nuid": "97a4b33a-0cb1-4453-9494-8304ca7087fc",
     "showTitle": false,
     "tableResultSettingsMap": {},
     "title": ""
    }
   },
   "outputs": [],
   "source": [
    "spark.createDataFrame(data=data,schema=my_schema).show()"
   ]
  },
  {
   "cell_type": "code",
   "execution_count": 0,
   "metadata": {
    "application/vnd.databricks.v1+cell": {
     "cellMetadata": {},
     "inputWidgets": {},
     "nuid": "c726cdb0-d8d7-4e71-a71d-97aeb5affa07",
     "showTitle": false,
     "tableResultSettingsMap": {},
     "title": ""
    }
   },
   "outputs": [],
   "source": []
  }
 ],
 "metadata": {
  "application/vnd.databricks.v1+notebook": {
   "computePreferences": null,
   "dashboards": [],
   "environmentMetadata": {
    "base_environment": "",
    "client": "1"
   },
   "language": "python",
   "notebookMetadata": {
    "mostRecentlyExecutedCommandWithImplicitDF": {
     "commandId": 8926597052995873,
     "dataframes": [
      "_sqldf"
     ]
    },
    "pythonIndentUnit": 4
   },
   "notebookName": "(Clone) z___Spark_Practical_Dataframe_API",
   "widgets": {}
  },
  "language_info": {
   "name": "python"
  }
 },
 "nbformat": 4,
 "nbformat_minor": 0
}
